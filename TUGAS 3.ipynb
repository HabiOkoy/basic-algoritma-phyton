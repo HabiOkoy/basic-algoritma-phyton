{
 "cells": [
  {
   "cell_type": "code",
   "execution_count": 2,
   "metadata": {},
   "outputs": [
    {
     "name": "stdout",
     "output_type": "stream",
     "text": [
      "alamat saya nomer 07 brebes brebes kabupaten brebes\n"
     ]
    },
    {
     "ename": "NameError",
     "evalue": "name 'var' is not defined",
     "output_type": "error",
     "traceback": [
      "\u001b[1;31m---------------------------------------------------------------------------\u001b[0m",
      "\u001b[1;31mNameError\u001b[0m                                 Traceback (most recent call last)",
      "\u001b[1;32m<ipython-input-2-220a0ce039bb>\u001b[0m in \u001b[0;36m<module>\u001b[1;34m\u001b[0m\n\u001b[0;32m      5\u001b[0m \u001b[0mprint\u001b[0m \u001b[1;33m(\u001b[0m\u001b[1;34m\"alamat saya nomer\"\u001b[0m\u001b[1;33m,\u001b[0m\u001b[0mvar\u001b[0m\u001b[1;33m,\u001b[0m\u001b[0mvar1\u001b[0m\u001b[1;33m,\u001b[0m\u001b[0mvar2\u001b[0m\u001b[1;33m,\u001b[0m\u001b[0mvariabel_saya\u001b[0m\u001b[1;33m)\u001b[0m\u001b[1;33m\u001b[0m\u001b[1;33m\u001b[0m\u001b[0m\n\u001b[0;32m      6\u001b[0m \u001b[1;32mdel\u001b[0m \u001b[1;33m(\u001b[0m\u001b[0mvar\u001b[0m\u001b[1;33m)\u001b[0m\u001b[1;33m\u001b[0m\u001b[1;33m\u001b[0m\u001b[0m\n\u001b[1;32m----> 7\u001b[1;33m \u001b[0mprint\u001b[0m \u001b[1;33m(\u001b[0m\u001b[0mvar\u001b[0m\u001b[1;33m)\u001b[0m\u001b[1;33m\u001b[0m\u001b[1;33m\u001b[0m\u001b[0m\n\u001b[0m",
      "\u001b[1;31mNameError\u001b[0m: name 'var' is not defined"
     ]
    }
   ],
   "source": [
    "#tugas 3\n",
    "var = \"07\"\n",
    "var1 = \"brebes\"\n",
    "var2 = \"brebes\"\n",
    "variabel_saya = \"kabupaten brebes\"\n",
    "print (\"alamat saya nomer\",var,var1,var2,variabel_saya)\n",
    "del (var)\n",
    "print (var)"
   ]
  },
  {
   "cell_type": "code",
   "execution_count": 8,
   "metadata": {},
   "outputs": [
    {
     "name": "stdout",
     "output_type": "stream",
     "text": [
      "biodata siswa\n",
      "nama :arden khaparta\n",
      "NIM:20090030\n",
      "\n",
      "dia mahasiswa semester 1 yang berprestasi,karena memiliki IPK 3.14\n"
     ]
    }
   ],
   "source": [
    "#tugas 3\n",
    "print (\"biodata siswa\") \n",
    "Nama = \"nama :arden khaparta\"  #string\n",
    "NIM = \"NIM:20090030\"    #string\n",
    "semester = 1    #int\n",
    "IPK = 3.14      #float\n",
    "\n",
    "print (str(Nama))\n",
    "print (str(NIM))\n",
    "print (\"\"\"\n",
    "dia mahasiswa semester\"\"\",semester,\"yang berprestasi,karena memiliki IPK\",IPK)"
   ]
  },
  {
   "cell_type": "code",
   "execution_count": 9,
   "metadata": {},
   "outputs": [
    {
     "name": "stdout",
     "output_type": "stream",
     "text": [
      "keliling lingkaran sama dengan 314.0\n"
     ]
    }
   ],
   "source": [
    "#tugas 3\n",
    "var = 50\n",
    "phi = 3.14\n",
    "var1 = \"keliling lingkaran sama dengan\"\n",
    "var2 = 2*phi*var\n",
    "print (var1,var2)"
   ]
  },
  {
   "cell_type": "code",
   "execution_count": 11,
   "metadata": {},
   "outputs": [
    {
     "name": "stdout",
     "output_type": "stream",
     "text": [
      "True\n",
      "False\n"
     ]
    }
   ],
   "source": [
    "#tugas 3\n",
    "print (14>9)\n",
    "print (14<9)"
   ]
  },
  {
   "cell_type": "code",
   "execution_count": 12,
   "metadata": {},
   "outputs": [
    {
     "name": "stdout",
     "output_type": "stream",
     "text": [
      "0b1000000\n",
      "64.0\n",
      "0x40\n"
     ]
    }
   ],
   "source": [
    "#tugas 3\n",
    "a = 64\n",
    "print (bin(a))\n",
    "b = 64\n",
    "print (float(b))\n",
    "c = 64 \n",
    "print (hex(c))"
   ]
  },
  {
   "cell_type": "code",
   "execution_count": null,
   "metadata": {},
   "outputs": [],
   "source": []
  }
 ],
 "metadata": {
  "kernelspec": {
   "display_name": "Python 3",
   "language": "python",
   "name": "python3"
  },
  "language_info": {
   "codemirror_mode": {
    "name": "ipython",
    "version": 3
   },
   "file_extension": ".py",
   "mimetype": "text/x-python",
   "name": "python",
   "nbconvert_exporter": "python",
   "pygments_lexer": "ipython3",
   "version": "3.8.3"
  }
 },
 "nbformat": 4,
 "nbformat_minor": 4
}
