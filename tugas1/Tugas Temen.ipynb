{
 "cells": [
  {
   "cell_type": "code",
   "execution_count": null,
   "metadata": {},
   "outputs": [
    {
     "name": "stdout",
     "output_type": "stream",
     "text": [
      "hallo selamat datang! ini siapa ya?\n",
      "\n"
     ]
    }
   ],
   "source": [
    "print (\"hallo selamat datang! ini siapa ya?\")\n",
    "print()\n",
    "nama=input('coba masukan nama kau di sini :')\n",
    "nama_asli='reza'\n",
    "\n",
    "if nama==nama_asli:\n",
    "    print('hallo',nama,'!')\n",
    "else:\n",
    "    print('gausah boong deh aku tau ka,kamu reza')\n",
    "print('')\n",
    "print('')\n",
    "    \n",
    "print('kenalin aku program yang di buat temenmu untuk kamu')\n",
    "print('')\n",
    "print('')\n",
    "umur=int(input('umur kamu berapa? '))\n",
    "umur_asli=18\n",
    "\n",
    "if umur==umur_asli:\n",
    "    print('gapapa sih nanya ajh hehe')\n",
    "else:\n",
    "    print('tuh kan boong lagi,udah ngaku ajh deh aku tau umur kamu 18')\n",
    "    \n",
    "print('')\n",
    "print('')\n",
    "\n",
    "ultah=input('hari ini lagi ultah ya? (yes/no):')\n",
    "\n",
    "while ultah!='yes':\n",
    "    ultah=input('boong terus malu,aku tanya lagi hari ini ultah?')\n",
    "print('')\n",
    "print('')\n",
    "banyak=int(input('mau di ucapin berapa kali?'))\n",
    "while banyak<=0:\n",
    "    banyak=int(input('serius mau di ucapin berapa kali?'))\n",
    "    \n",
    "for i in range (banyak):\n",
    "    print('HAPPY BIRTHDAY REZA SEMOGA PANJANG UMUR DAN SEHAT SELALU <3')\n",
    "    \n",
    "while True:\n",
    "    pass\n"
   ]
  },
  {
   "cell_type": "code",
   "execution_count": null,
   "metadata": {},
   "outputs": [],
   "source": []
  },
  {
   "cell_type": "code",
   "execution_count": null,
   "metadata": {},
   "outputs": [],
   "source": []
  }
 ],
 "metadata": {
  "kernelspec": {
   "display_name": "Python 3",
   "language": "python",
   "name": "python3"
  },
  "language_info": {
   "codemirror_mode": {
    "name": "ipython",
    "version": 3
   },
   "file_extension": ".py",
   "mimetype": "text/x-python",
   "name": "python",
   "nbconvert_exporter": "python",
   "pygments_lexer": "ipython3",
   "version": "3.8.3"
  }
 },
 "nbformat": 4,
 "nbformat_minor": 4
}
