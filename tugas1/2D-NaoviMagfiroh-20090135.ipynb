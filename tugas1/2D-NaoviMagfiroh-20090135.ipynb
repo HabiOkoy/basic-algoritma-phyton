{
 "cells": [
  {
   "cell_type": "code",
   "execution_count": 1,
   "metadata": {},
   "outputs": [
    {
     "name": "stdout",
     "output_type": "stream",
     "text": [
      "{'A': ['A', 'B'], 'B': ['A', 'C', 'D'], 'C': ['A', 'D'], 'D': ['B']}\n"
     ]
    }
   ],
   "source": [
    "#Nama : Naovi Magfiroh#\n",
    "#NIM : 20090135#\n",
    "#Kelas :2D#\n",
    "\n",
    "#Jawaban No 1A#\n",
    "graf = {'A': ['A','B'],'B':['A','C','D'],'C':['A','D'],'D':['B']}\n",
    "print(graf)"
   ]
  },
  {
   "cell_type": "code",
   "execution_count": 2,
   "metadata": {},
   "outputs": [
    {
     "name": "stdout",
     "output_type": "stream",
     "text": [
      "{1: [1, 3], 2: [3], 3: [2]}\n"
     ]
    }
   ],
   "source": [
    "#jawaban No 1B#\n",
    "R = {1:[1,3],2:[3],3:[2]}\n",
    "print(R)"
   ]
  },
  {
   "cell_type": "code",
   "execution_count": 3,
   "metadata": {},
   "outputs": [
    {
     "name": "stdout",
     "output_type": "stream",
     "text": [
      "{'a': ['b', 'c'], 'b': ['c', 'd'], 'c': ['d'], 'd': ['c'], 'e': ['f'], 'f': ['c']}\n"
     ]
    }
   ],
   "source": [
    "#jawaban No 2A#\n",
    "#Cara membuat graf#\n",
    "#awal = {a,b,c,d,e,f}\n",
    "#akhir = {ab,ac,bc,bd,cd,dc,ef,fc}\n",
    "graf = {'a':['b','c'],'b':['c','d'],'c':['d'],'d':['c'],'e':['f'],'f':['c']}\n",
    "print(graf)"
   ]
  },
  {
   "cell_type": "code",
   "execution_count": 4,
   "metadata": {},
   "outputs": [
    {
     "name": "stdout",
     "output_type": "stream",
     "text": [
      "{1: [2], 2: [1, 3, 4], 3: [1], 4: [2, 3]}\n"
     ]
    }
   ],
   "source": [
    "#jawaban NO 2B#\n",
    "#Cara membuat graf#\n",
    "#awal = {1,2,3,4}\n",
    "#akhir = {1,[2],2[1,3,4],3[1],4[2,3]}\n",
    "graf = {1:[2],2:[1,3,4],3:[1],4:[2,3]}\n",
    "print(graf)\n",
    "#matriks = {[1,0,1,0],[0,1,0,1],[1,0,1,0],[0,1,0,1]}\n",
    "#graf = {[1,0,1,0],[[0,1,0,1],[1,0,1,0],[0,1,0,1]}\n",
    "#print(graf)"
   ]
  },
  {
   "cell_type": "code",
   "execution_count": 6,
   "metadata": {},
   "outputs": [
    {
     "name": "stdout",
     "output_type": "stream",
     "text": [
      "Basis dan langkah induksi True\n"
     ]
    }
   ],
   "source": [
    "#jawaban NO 3A#\n",
    "n >= 3\n",
    "\n",
    "total_1= 0\n",
    "for i in range(n-2):\n",
    "    total_1 += i\n",
    "    \n",
    "total_2=0\n",
    "for i in range(n-2):\n",
    "    total_2 += pow(i,3)\n",
    "    \n",
    "print(\"Basis dan langkah induksi\", (pow(3,2*n)+pow(2,2*n+2))%5==0)"
   ]
  },
  {
   "cell_type": "code",
   "execution_count": 8,
   "metadata": {},
   "outputs": [
    {
     "name": "stdout",
     "output_type": "stream",
     "text": [
      "20006 = 6\n",
      "50036 = 6\n",
      "Habis dibagi 5 True\n"
     ]
    }
   ],
   "source": [
    "#jawaban nomor 3B#\n",
    "n >= 4\n",
    "\n",
    "total_1= 20000\n",
    "for i in range(n+1):\n",
    "    total_1 += i\n",
    "    \n",
    "total_2 = 50000\n",
    "for i in range(n+1):\n",
    "    total_2 +=pow(i,3)\n",
    "    \n",
    "print(total_1,\"=\",int((1/2)*n*(n+1)))\n",
    "print(total_2,\"=\",int((1/4)*pow(n+2,2)))\n",
    "print(\"Habis dibagi 5\",(pow(3,2*n)+pow(2,2*n+2))%5==0)"
   ]
  },
  {
   "cell_type": "code",
   "execution_count": 10,
   "metadata": {},
   "outputs": [
    {
     "name": "stdout",
     "output_type": "stream",
     "text": [
      "=====NOT=====\n",
      "data a= False\n",
      "-------NOT\n",
      "data c= True\n",
      "=====OR=====\n",
      "False OR False = False\n",
      "False OR False = False\n",
      "False OR True = True\n",
      "True OR False = True\n",
      "True OR True = True\n"
     ]
    }
   ],
   "source": [
    "#jawaban no 4A#\n",
    "#Operasi booelan dan logika#\n",
    "#not,or,and,xor#\n",
    "\n",
    "#not#\n",
    "print('=====NOT=====')\n",
    "a = False\n",
    "c = not a\n",
    "print('data a=',a)\n",
    "print('-------NOT')\n",
    "print('data c=',c)\n",
    "      \n",
    "#or#\n",
    "print('=====OR=====')\n",
    "a= False\n",
    "b= False\n",
    "c= a or b\n",
    "print(a,'OR',b,'=',c)\n",
    "a= False\n",
    "b= False\n",
    "c= a or b\n",
    "print(a,'OR',b,'=',c)\n",
    "a= False\n",
    "b= True\n",
    "c= a or b\n",
    "print(a,'OR',b,'=',c)\n",
    "a = True\n",
    "b= False\n",
    "c = a or b\n",
    "print(a,'OR',b,'=',c)\n",
    "a= True\n",
    "b= True\n",
    "c= a or b\n",
    "print(a,'OR',b,'=',c)\n",
    "    "
   ]
  },
  {
   "cell_type": "code",
   "execution_count": 12,
   "metadata": {},
   "outputs": [
    {
     "name": "stdout",
     "output_type": "stream",
     "text": [
      "apakah a lebih besar dari b? jawabannya = True\n",
      "apakah a lebih kecil dari b? jawabannya = False\n",
      "apakah a sama dengan b? jawabannya = False\n",
      "apakah a tidak sama dengan b? jawabannya = True\n",
      "apakah a lebih besar sama dengan b? jawabannya = True\n",
      "apakah a lebih kecil sama dengan b? jawabannya = False\n"
     ]
    }
   ],
   "source": [
    "#jawaban no 5#\n",
    "# aljabar boolean\n",
    "a = 100\n",
    "b = 56\n",
    "# apakah a lebih  besar dari b?\n",
    "c = a> b\n",
    "print(\"apakah a lebih besar dari b? jawabannya =\", c)\n",
    "# apakah a lebih kecil dari b?\n",
    "d = a<b\n",
    "print(\"apakah a lebih kecil dari b? jawabannya =\", d)\n",
    "# apakah a sama dengan b?\n",
    "e = a==b\n",
    "print(\"apakah a sama dengan b? jawabannya =\", e )\n",
    "# apakah a tidak sama dengan b?\n",
    "f = a!=b\n",
    "print(\"apakah a tidak sama dengan b? jawabannya =\", f)\n",
    "# apakah a lebih besar sama dengan b?\n",
    "g = a>=b\n",
    "print(\"apakah a lebih besar sama dengan b? jawabannya =\", g)\n",
    "# apakah a lebih kecil sama dengan b?\n",
    "h = a<=b\n",
    "print(\"apakah a lebih kecil sama dengan b? jawabannya =\", h)"
   ]
  },
  {
   "cell_type": "code",
   "execution_count": null,
   "metadata": {},
   "outputs": [],
   "source": []
  }
 ],
 "metadata": {
  "kernelspec": {
   "display_name": "Python 3",
   "language": "python",
   "name": "python3"
  },
  "language_info": {
   "codemirror_mode": {
    "name": "ipython",
    "version": 3
   },
   "file_extension": ".py",
   "mimetype": "text/x-python",
   "name": "python",
   "nbconvert_exporter": "python",
   "pygments_lexer": "ipython3",
   "version": "3.8.5"
  }
 },
 "nbformat": 4,
 "nbformat_minor": 4
}
