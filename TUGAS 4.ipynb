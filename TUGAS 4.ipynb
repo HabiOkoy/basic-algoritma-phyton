{
 "cells": [
  {
   "cell_type": "code",
   "execution_count": 2,
   "metadata": {},
   "outputs": [
    {
     "name": "stdout",
     "output_type": "stream",
     "text": [
      "hasil 8 + 9 = 17\n"
     ]
    }
   ],
   "source": [
    "#tugas 4\n",
    "a = 8\n",
    "b = 9\n",
    "c = a + b\n",
    "print (\"hasil\",a, \"+\",b, \"=\", c)"
   ]
  },
  {
   "cell_type": "code",
   "execution_count": 3,
   "metadata": {},
   "outputs": [
    {
     "name": "stdout",
     "output_type": "stream",
     "text": [
      "15\n",
      "26\n"
     ]
    }
   ],
   "source": [
    "#tugas4\n",
    "\n",
    "a = 15\n",
    "print (a)\n",
    "a += 11\n",
    "print (a)"
   ]
  },
  {
   "cell_type": "code",
   "execution_count": 4,
   "metadata": {},
   "outputs": [
    {
     "name": "stdout",
     "output_type": "stream",
     "text": [
      "apakah a sama dengan b: False\n",
      "apakah a lebih besar dari b: True\n"
     ]
    }
   ],
   "source": [
    "#tugas4\n",
    "a = 12\n",
    "b = 9\n",
    "\n",
    "c = a == b\n",
    "print (\"apakah a sama dengan b:\",c)\n",
    "d = a > b\n",
    "print (\"apakah a lebih besar dari b:\",d)"
   ]
  },
  {
   "cell_type": "code",
   "execution_count": 7,
   "metadata": {},
   "outputs": [
    {
     "name": "stdout",
     "output_type": "stream",
     "text": [
      "False\n",
      "True\n"
     ]
    }
   ],
   "source": [
    "#tugas4\n",
    "a = False\n",
    "b = True\n",
    "c = a and b\n",
    "print (c)\n",
    "\n",
    "a = True\n",
    "b = True\n",
    "c = a and b\n",
    "print (c)"
   ]
  },
  {
   "cell_type": "code",
   "execution_count": 1,
   "metadata": {},
   "outputs": [
    {
     "name": "stdout",
     "output_type": "stream",
     "text": [
      " masukan nama bayi habibi\n",
      "masukan berat badan bayi : 7\n",
      "berat badan adalah 70 ons, berat bayi 1 bulan ke depan adalah : 100 ons\n"
     ]
    }
   ],
   "source": [
    "#tugas nomer 4\n",
    "nama = input (\" masukan nama bayi\")\n",
    "berat= int(input(\"masukan berat badan bayi :\"))\n",
    "\n",
    "berat_kg = berat * 10\n",
    "berat_ons = berat_kg + 30\n",
    "\n",
    "print (\"berat badan adalah\",berat_kg,\"ons, berat bayi 1 bulan ke depan adalah :\",berat_ons,\"ons\" )"
   ]
  },
  {
   "cell_type": "code",
   "execution_count": null,
   "metadata": {},
   "outputs": [],
   "source": []
  }
 ],
 "metadata": {
  "kernelspec": {
   "display_name": "Python 3",
   "language": "python",
   "name": "python3"
  },
  "language_info": {
   "codemirror_mode": {
    "name": "ipython",
    "version": 3
   },
   "file_extension": ".py",
   "mimetype": "text/x-python",
   "name": "python",
   "nbconvert_exporter": "python",
   "pygments_lexer": "ipython3",
   "version": "3.8.3"
  }
 },
 "nbformat": 4,
 "nbformat_minor": 4
}
